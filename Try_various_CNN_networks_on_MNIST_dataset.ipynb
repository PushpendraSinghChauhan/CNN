{
 "cells": [
  {
   "cell_type": "markdown",
   "metadata": {
    "colab_type": "text",
    "id": "jGiWaCvViVZ2"
   },
   "source": [
    "# OBJECTIVE :- Try various CNN networks on MNIST dataset"
   ]
  },
  {
   "cell_type": "code",
   "execution_count": 1,
   "metadata": {
    "colab": {
     "base_uri": "https://localhost:8080/",
     "height": 69
    },
    "colab_type": "code",
    "id": "UgzYyxYQiLHd",
    "outputId": "2bb667b5-632d-4691-b54d-8c278701ba80"
   },
   "outputs": [
    {
     "name": "stderr",
     "output_type": "stream",
     "text": [
      "Using TensorFlow backend.\n"
     ]
    },
    {
     "name": "stdout",
     "output_type": "stream",
     "text": [
      "Downloading data from https://s3.amazonaws.com/img-datasets/mnist.npz\n",
      "11493376/11490434 [==============================] - 2s 0us/step\n"
     ]
    }
   ],
   "source": [
    "# Importing libraries\n",
    "from __future__ import print_function\n",
    "import keras\n",
    "from keras.datasets import mnist\n",
    "from keras.models import Sequential\n",
    "from keras.layers import Dense, Dropout, Flatten\n",
    "from keras.layers import Conv2D, MaxPooling2D\n",
    "from keras import backend as K\n",
    "from keras.initializers import he_normal\n",
    "from keras.layers.normalization import BatchNormalization\n",
    "import numpy as np\n",
    "import matplotlib.pyplot as plt\n",
    "%matplotlib inline\n",
    "\n",
    "batch_size = 128\n",
    "num_classes = 10\n",
    "epochs = 12\n",
    "\n",
    "# input image dimensions\n",
    "img_rows, img_cols = 28, 28\n",
    "\n",
    "# the data, split between train and test sets\n",
    "(x_train, y_train), (x_test, y_test) = mnist.load_data()"
   ]
  },
  {
   "cell_type": "code",
   "execution_count": 2,
   "metadata": {
    "colab": {
     "base_uri": "https://localhost:8080/",
     "height": 69
    },
    "colab_type": "code",
    "id": "KM-RleX0lB4h",
    "outputId": "73bb6143-aba9-4ff3-9986-09a6c3abe8d9"
   },
   "outputs": [
    {
     "name": "stdout",
     "output_type": "stream",
     "text": [
      "x_train shape: (60000, 28, 28, 1)\n",
      "60000 train samples\n",
      "10000 test samples\n"
     ]
    }
   ],
   "source": [
    "if K.image_data_format() == 'channels_first':\n",
    "    x_train = x_train.reshape(x_train.shape[0], 1, img_rows, img_cols)\n",
    "    x_test = x_test.reshape(x_test.shape[0], 1, img_rows, img_cols)\n",
    "    input_shape = (1, img_rows, img_cols)\n",
    "else:\n",
    "    x_train = x_train.reshape(x_train.shape[0], img_rows, img_cols, 1)\n",
    "    x_test = x_test.reshape(x_test.shape[0], img_rows, img_cols, 1)\n",
    "    input_shape = (img_rows, img_cols, 1)\n",
    "\n",
    "x_train = x_train.astype('float32')\n",
    "x_test = x_test.astype('float32')\n",
    "x_train /= 255\n",
    "x_test /= 255\n",
    "print('x_train shape:', x_train.shape)\n",
    "print(x_train.shape[0], 'train samples')\n",
    "print(x_test.shape[0], 'test samples')\n",
    "\n",
    "# convert class vectors to binary class matrices\n",
    "y_train = keras.utils.to_categorical(y_train, num_classes)\n",
    "y_test = keras.utils.to_categorical(y_test, num_classes)"
   ]
  },
  {
   "cell_type": "code",
   "execution_count": 0,
   "metadata": {
    "colab": {},
    "colab_type": "code",
    "id": "Iu-Ut3M8lX6S"
   },
   "outputs": [],
   "source": [
    "# this function is used draw Categorical Crossentropy Loss VS No. of epochs plot\n",
    "def plt_dynamic(x, vy, ty):\n",
    "  plt.figure(figsize=(10,5))\n",
    "  plt.plot(x, vy, 'b', label=\"Validation Loss\")\n",
    "  plt.plot(x, ty, 'r', label=\"Train Loss\")\n",
    "  plt.xlabel('Epochs') \n",
    "  plt.ylabel('Categorical Crossentropy Loss')\n",
    "  plt.title('\\nCategorical Crossentropy Loss VS Epochs')\n",
    "  plt.legend()\n",
    "  plt.grid()\n",
    "  plt.show()"
   ]
  },
  {
   "cell_type": "markdown",
   "metadata": {
    "colab_type": "text",
    "id": "u5FpsbN8lpzH"
   },
   "source": [
    "## (1). CNN with 3 Convolutional layers and kernel size - (3X3)"
   ]
  },
  {
   "cell_type": "code",
   "execution_count": 5,
   "metadata": {
    "colab": {
     "base_uri": "https://localhost:8080/",
     "height": 968
    },
    "colab_type": "code",
    "id": "t6hMsU6Vlm5E",
    "outputId": "8338e630-f9ec-4aa4-b919-6f3f72e13e10"
   },
   "outputs": [
    {
     "name": "stdout",
     "output_type": "stream",
     "text": [
      "_________________________________________________________________\n",
      "Layer (type)                 Output Shape              Param #   \n",
      "=================================================================\n",
      "conv2d_4 (Conv2D)            (None, 26, 26, 32)        320       \n",
      "_________________________________________________________________\n",
      "conv2d_5 (Conv2D)            (None, 24, 24, 64)        18496     \n",
      "_________________________________________________________________\n",
      "max_pooling2d_3 (MaxPooling2 (None, 12, 12, 64)        0         \n",
      "_________________________________________________________________\n",
      "dropout_4 (Dropout)          (None, 12, 12, 64)        0         \n",
      "_________________________________________________________________\n",
      "conv2d_6 (Conv2D)            (None, 10, 10, 128)       73856     \n",
      "_________________________________________________________________\n",
      "max_pooling2d_4 (MaxPooling2 (None, 5, 5, 128)         0         \n",
      "_________________________________________________________________\n",
      "dropout_5 (Dropout)          (None, 5, 5, 128)         0         \n",
      "_________________________________________________________________\n",
      "flatten_2 (Flatten)          (None, 3200)              0         \n",
      "_________________________________________________________________\n",
      "dense_3 (Dense)              (None, 256)               819456    \n",
      "_________________________________________________________________\n",
      "dropout_6 (Dropout)          (None, 256)               0         \n",
      "_________________________________________________________________\n",
      "dense_4 (Dense)              (None, 10)                2570      \n",
      "=================================================================\n",
      "Total params: 914,698\n",
      "Trainable params: 914,698\n",
      "Non-trainable params: 0\n",
      "_________________________________________________________________\n",
      "None\n",
      "Train on 60000 samples, validate on 10000 samples\n",
      "Epoch 1/12\n",
      "60000/60000 [==============================] - 222s 4ms/step - loss: 0.2171 - acc: 0.9305 - val_loss: 0.0482 - val_acc: 0.9834\n",
      "Epoch 2/12\n",
      "60000/60000 [==============================] - 240s 4ms/step - loss: 0.0674 - acc: 0.9788 - val_loss: 0.0319 - val_acc: 0.9897\n",
      "Epoch 3/12\n",
      "60000/60000 [==============================] - 237s 4ms/step - loss: 0.0496 - acc: 0.9850 - val_loss: 0.0238 - val_acc: 0.9919\n",
      "Epoch 4/12\n",
      "60000/60000 [==============================] - 237s 4ms/step - loss: 0.0412 - acc: 0.9880 - val_loss: 0.0225 - val_acc: 0.9924\n",
      "Epoch 5/12\n",
      "60000/60000 [==============================] - 219s 4ms/step - loss: 0.0357 - acc: 0.9896 - val_loss: 0.0188 - val_acc: 0.9940\n",
      "Epoch 6/12\n",
      "60000/60000 [==============================] - 209s 3ms/step - loss: 0.0319 - acc: 0.9901 - val_loss: 0.0199 - val_acc: 0.9937\n",
      "Epoch 7/12\n",
      "60000/60000 [==============================] - 218s 4ms/step - loss: 0.0274 - acc: 0.9912 - val_loss: 0.0216 - val_acc: 0.9929\n",
      "Epoch 8/12\n",
      "60000/60000 [==============================] - 209s 3ms/step - loss: 0.0243 - acc: 0.9923 - val_loss: 0.0184 - val_acc: 0.9940\n",
      "Epoch 9/12\n",
      "60000/60000 [==============================] - 205s 3ms/step - loss: 0.0227 - acc: 0.9927 - val_loss: 0.0181 - val_acc: 0.9940\n",
      "Epoch 10/12\n",
      "60000/60000 [==============================] - 213s 4ms/step - loss: 0.0210 - acc: 0.9932 - val_loss: 0.0187 - val_acc: 0.9939\n",
      "Epoch 11/12\n",
      "60000/60000 [==============================] - 206s 3ms/step - loss: 0.0201 - acc: 0.9935 - val_loss: 0.0202 - val_acc: 0.9932\n",
      "Epoch 12/12\n",
      "60000/60000 [==============================] - 208s 3ms/step - loss: 0.0190 - acc: 0.9941 - val_loss: 0.0166 - val_acc: 0.9940\n"
     ]
    }
   ],
   "source": [
    "# Initialising the model\n",
    "model_3 = Sequential()\n",
    "\n",
    "# Adding first conv layer\n",
    "model_3.add(Conv2D(32, kernel_size=(3, 3),activation='relu',input_shape=input_shape))\n",
    "\n",
    "# Adding second conv layer\n",
    "model_3.add(Conv2D(64, (3, 3), activation='relu'))\n",
    "\n",
    "# Adding Maxpooling layer\n",
    "model_3.add(MaxPooling2D(pool_size=(2, 2)))\n",
    "\n",
    "# Adding Dropout\n",
    "model_3.add(Dropout(0.25))\n",
    "\n",
    "# Adding third conv layer\n",
    "model_3.add(Conv2D(128, (3, 3), activation='relu'))\n",
    "\n",
    "# Adding Maxpooling layer\n",
    "model_3.add(MaxPooling2D(pool_size=(2, 2)))\n",
    "\n",
    "# Adding Dropout\n",
    "model_3.add(Dropout(0.25))\n",
    "\n",
    "# Adding flatten layer\n",
    "model_3.add(Flatten())\n",
    "\n",
    "# Adding first hidden layer\n",
    "model_3.add(Dense(256, activation='relu',kernel_initializer=he_normal(seed=None)))\n",
    "\n",
    "# Adding Dropout\n",
    "model_3.add(Dropout(0.5))\n",
    "\n",
    "# Adding output layer\n",
    "model_3.add(Dense(num_classes, activation='softmax'))\n",
    "\n",
    "# Printing model Summary\n",
    "print(model_3.summary())\n",
    "\n",
    "# Compiling the model\n",
    "model_3.compile(optimizer='adam', loss='categorical_crossentropy', metrics=['accuracy'])\n",
    "\n",
    "# Fitting the data to the model\n",
    "history_3 = model_3.fit(x_train, y_train,batch_size=batch_size,epochs=epochs,verbose=1,validation_data=(x_test, y_test))"
   ]
  },
  {
   "cell_type": "code",
   "execution_count": 6,
   "metadata": {
    "colab": {
     "base_uri": "https://localhost:8080/",
     "height": 398
    },
    "colab_type": "code",
    "id": "-vG6Xb-iwDCk",
    "outputId": "41a93c47-3d81-49d1-c350-26cbaf5ca9f3"
   },
   "outputs": [
    {
     "name": "stdout",
     "output_type": "stream",
     "text": [
      "Test score: 0.01658615784635249\n",
      "Test accuracy: 0.994\n"
     ]
    },
    {
     "data": {
      "image/png": "[encoded data removed]",
      "text/plain": [
       "<matplotlib.figure.Figure at 0x7f179c8efd68>"
      ]
     },
     "metadata": {
      "tags": []
     },
     "output_type": "display_data"
    }
   ],
   "source": [
    "# Evaluating the model\n",
    "score = model_3.evaluate(x_test, y_test, verbose=0) \n",
    "print('Test score:', score[0]) \n",
    "print('Test accuracy:', score[1])\n",
    "\n",
    "# Test and train accuracy of the model\n",
    "model_3_test = score[1]\n",
    "model_3_train = max(history_3.history['acc'])\n",
    "\n",
    "# Plotting Train and Test Loss VS no. of epochs\n",
    "# list of epoch numbers\n",
    "x = list(range(1,epochs+1))\n",
    "\n",
    "# Validation loss\n",
    "vy = history_3.history['val_loss']\n",
    "# Training loss\n",
    "ty = history_3.history['loss']\n",
    "\n",
    "# Calling the function to draw the plot\n",
    "plt_dynamic(x, vy, ty)"
   ]
  },
  {
   "cell_type": "markdown",
   "metadata": {
    "colab_type": "text",
    "id": "ycMtLLu46qE2"
   },
   "source": [
    "## (2). CNN with 5 Convolutional layers and kernel size - (5X5)"
   ]
  },
  {
   "cell_type": "code",
   "execution_count": 10,
   "metadata": {
    "colab": {
     "base_uri": "https://localhost:8080/",
     "height": 1140
    },
    "colab_type": "code",
    "id": "JTVWFRN66z3v",
    "outputId": "b6510327-d1de-4eaa-eeed-2c598b9e2d98"
   },
   "outputs": [
    {
     "name": "stdout",
     "output_type": "stream",
     "text": [
      "_________________________________________________________________\n",
      "Layer (type)                 Output Shape              Param #   \n",
      "=================================================================\n",
      "conv2d_20 (Conv2D)           (None, 28, 28, 8)         208       \n",
      "_________________________________________________________________\n",
      "conv2d_21 (Conv2D)           (None, 24, 24, 16)        3216      \n",
      "_________________________________________________________________\n",
      "max_pooling2d_11 (MaxPooling (None, 12, 12, 16)        0         \n",
      "_________________________________________________________________\n",
      "dropout_13 (Dropout)         (None, 12, 12, 16)        0         \n",
      "_________________________________________________________________\n",
      "conv2d_22 (Conv2D)           (None, 12, 12, 32)        12832     \n",
      "_________________________________________________________________\n",
      "max_pooling2d_12 (MaxPooling (None, 6, 6, 32)          0         \n",
      "_________________________________________________________________\n",
      "dropout_14 (Dropout)         (None, 6, 6, 32)          0         \n",
      "_________________________________________________________________\n",
      "conv2d_23 (Conv2D)           (None, 6, 6, 64)          51264     \n",
      "_________________________________________________________________\n",
      "conv2d_24 (Conv2D)           (None, 2, 2, 64)          102464    \n",
      "_________________________________________________________________\n",
      "max_pooling2d_13 (MaxPooling (None, 1, 1, 64)          0         \n",
      "_________________________________________________________________\n",
      "dropout_15 (Dropout)         (None, 1, 1, 64)          0         \n",
      "_________________________________________________________________\n",
      "flatten_3 (Flatten)          (None, 64)                0         \n",
      "_________________________________________________________________\n",
      "dense_5 (Dense)              (None, 256)               16640     \n",
      "_________________________________________________________________\n",
      "batch_normalization_1 (Batch (None, 256)               1024      \n",
      "_________________________________________________________________\n",
      "dropout_16 (Dropout)         (None, 256)               0         \n",
      "_________________________________________________________________\n",
      "dense_6 (Dense)              (None, 10)                2570      \n",
      "=================================================================\n",
      "Total params: 190,218\n",
      "Trainable params: 189,706\n",
      "Non-trainable params: 512\n",
      "_________________________________________________________________\n",
      "None\n",
      "Train on 60000 samples, validate on 10000 samples\n",
      "Epoch 1/12\n",
      "60000/60000 [==============================] - 143s 2ms/step - loss: 0.3913 - acc: 0.8772 - val_loss: 0.0529 - val_acc: 0.9828\n",
      "Epoch 2/12\n",
      "60000/60000 [==============================] - 144s 2ms/step - loss: 0.1050 - acc: 0.9703 - val_loss: 0.0355 - val_acc: 0.9896\n",
      "Epoch 3/12\n",
      "60000/60000 [==============================] - 139s 2ms/step - loss: 0.0771 - acc: 0.9785 - val_loss: 0.0314 - val_acc: 0.9903\n",
      "Epoch 4/12\n",
      "60000/60000 [==============================] - 135s 2ms/step - loss: 0.0656 - acc: 0.9815 - val_loss: 0.0355 - val_acc: 0.9902\n",
      "Epoch 5/12\n",
      "60000/60000 [==============================] - 127s 2ms/step - loss: 0.0560 - acc: 0.9843 - val_loss: 0.0229 - val_acc: 0.9921\n",
      "Epoch 6/12\n",
      "60000/60000 [==============================] - 136s 2ms/step - loss: 0.0495 - acc: 0.9868 - val_loss: 0.0240 - val_acc: 0.9932\n",
      "Epoch 7/12\n",
      "60000/60000 [==============================] - 143s 2ms/step - loss: 0.0448 - acc: 0.9879 - val_loss: 0.0206 - val_acc: 0.9938\n",
      "Epoch 8/12\n",
      "60000/60000 [==============================] - 132s 2ms/step - loss: 0.0424 - acc: 0.9882 - val_loss: 0.0217 - val_acc: 0.9935\n",
      "Epoch 9/12\n",
      "60000/60000 [==============================] - 129s 2ms/step - loss: 0.0379 - acc: 0.9891 - val_loss: 0.0207 - val_acc: 0.9939\n",
      "Epoch 10/12\n",
      "60000/60000 [==============================] - 126s 2ms/step - loss: 0.0344 - acc: 0.9902 - val_loss: 0.0202 - val_acc: 0.9941\n",
      "Epoch 11/12\n",
      "60000/60000 [==============================] - 135s 2ms/step - loss: 0.0310 - acc: 0.9913 - val_loss: 0.0240 - val_acc: 0.9931\n",
      "Epoch 12/12\n",
      "60000/60000 [==============================] - 138s 2ms/step - loss: 0.0306 - acc: 0.9912 - val_loss: 0.0210 - val_acc: 0.9931\n"
     ]
    }
   ],
   "source": [
    "# Initialising the model\n",
    "model_5 = Sequential()\n",
    "\n",
    "# Adding first conv layer\n",
    "model_5.add(Conv2D(8, kernel_size=(5, 5),padding='same',activation='relu',input_shape=input_shape))\n",
    "\n",
    "# Adding second conv layer\n",
    "model_5.add(Conv2D(16, (5, 5), activation='relu'))\n",
    "\n",
    "# Adding Maxpooling layer\n",
    "model_5.add(MaxPooling2D(pool_size=(2, 2),padding='same'))\n",
    "\n",
    "# Adding Dropout\n",
    "model_5.add(Dropout(0.25))\n",
    "\n",
    "# Adding third conv layer\n",
    "model_5.add(Conv2D(32, (5, 5),padding='same', activation='relu'))\n",
    "\n",
    "# Adding Maxpooling layer\n",
    "model_5.add(MaxPooling2D(pool_size=(2, 2),padding='same'))\n",
    "\n",
    "# Adding Dropout\n",
    "model_5.add(Dropout(0.25))\n",
    "\n",
    "# Adding fourth conv layer\n",
    "model_5.add(Conv2D(64, (5, 5),padding='same',activation='relu'))\n",
    "\n",
    "# Adding fifth conv layer\n",
    "model_5.add(Conv2D(64, (5, 5), activation='relu'))\n",
    "\n",
    "# Adding Maxpooling layer\n",
    "model_5.add(MaxPooling2D(pool_size=(2, 2),padding='same'))\n",
    "\n",
    "# Adding Dropout\n",
    "model_5.add(Dropout(0.25))\n",
    "\n",
    "# Adding flatten layer\n",
    "model_5.add(Flatten())\n",
    "\n",
    "# Adding first hidden layer\n",
    "model_5.add(Dense(256, activation='relu',kernel_initializer=he_normal(seed=None)))\n",
    "\n",
    "# Adding Batch Normalization\n",
    "model_5.add(BatchNormalization())\n",
    "\n",
    "# Adding Dropout\n",
    "model_5.add(Dropout(0.5))\n",
    "\n",
    "# Adding output layer\n",
    "model_5.add(Dense(num_classes, activation='softmax'))\n",
    "\n",
    "# Printing model Summary\n",
    "print(model_5.summary())\n",
    "\n",
    "# Compiling the model\n",
    "model_5.compile(optimizer='adam', loss='categorical_crossentropy', metrics=['accuracy'])\n",
    "\n",
    "# Fitting the data to the model\n",
    "history_5 = model_5.fit(x_train, y_train,batch_size=batch_size,epochs=epochs,verbose=1,validation_data=(x_test, y_test))"
   ]
  },
  {
   "cell_type": "code",
   "execution_count": 11,
   "metadata": {
    "colab": {
     "base_uri": "https://localhost:8080/",
     "height": 398
    },
    "colab_type": "code",
    "id": "222XEEah_xOa",
    "outputId": "47d43957-e6e0-4d41-a0b8-c1eca1e674a7"
   },
   "outputs": [
    {
     "name": "stdout",
     "output_type": "stream",
     "text": [
      "Test score: 0.020986396820967274\n",
      "Test accuracy: 0.9931\n"
     ]
    },
    {
     "data": {
      "image/png": "[encoded data removed]",
      "text/plain": [
       "<matplotlib.figure.Figure at 0x7f179fa329e8>"
      ]
     },
     "metadata": {
      "tags": []
     },
     "output_type": "display_data"
    }
   ],
   "source": [
    "# Evaluating the model\n",
    "score = model_5.evaluate(x_test, y_test, verbose=0) \n",
    "print('Test score:', score[0]) \n",
    "print('Test accuracy:', score[1])\n",
    "\n",
    "# Test and train accuracy of the model\n",
    "model_5_test = score[1]\n",
    "model_5_train = max(history_5.history['acc'])\n",
    "\n",
    "# Plotting Train and Test Loss VS no. of epochs\n",
    "# list of epoch numbers\n",
    "x = list(range(1,epochs+1))\n",
    "\n",
    "# Validation loss\n",
    "vy = history_5.history['val_loss']\n",
    "# Training loss\n",
    "ty = history_5.history['loss']\n",
    "\n",
    "# Calling the function to draw the plot\n",
    "plt_dynamic(x, vy, ty)"
   ]
  },
  {
   "cell_type": "markdown",
   "metadata": {
    "colab_type": "text",
    "id": "52YmhkNfGDjo"
   },
   "source": [
    "## (3). CNN with 7 Convolutional layers and kernel size - (2X2)"
   ]
  },
  {
   "cell_type": "code",
   "execution_count": 18,
   "metadata": {
    "colab": {
     "base_uri": "https://localhost:8080/",
     "height": 1313
    },
    "colab_type": "code",
    "id": "By6oqSzXGMzm",
    "outputId": "8fae4c8c-55f1-4d2d-8c32-1b68f9d250ca"
   },
   "outputs": [
    {
     "name": "stdout",
     "output_type": "stream",
     "text": [
      "_________________________________________________________________\n",
      "Layer (type)                 Output Shape              Param #   \n",
      "=================================================================\n",
      "conv2d_60 (Conv2D)           (None, 28, 28, 32)        160       \n",
      "_________________________________________________________________\n",
      "conv2d_61 (Conv2D)           (None, 27, 27, 32)        4128      \n",
      "_________________________________________________________________\n",
      "max_pooling2d_33 (MaxPooling (None, 25, 25, 32)        0         \n",
      "_________________________________________________________________\n",
      "dropout_42 (Dropout)         (None, 25, 25, 32)        0         \n",
      "_________________________________________________________________\n",
      "conv2d_62 (Conv2D)           (None, 24, 24, 64)        8256      \n",
      "_________________________________________________________________\n",
      "max_pooling2d_34 (MaxPooling (None, 12, 12, 64)        0         \n",
      "_________________________________________________________________\n",
      "conv2d_63 (Conv2D)           (None, 12, 12, 64)        16448     \n",
      "_________________________________________________________________\n",
      "conv2d_64 (Conv2D)           (None, 11, 11, 128)       32896     \n",
      "_________________________________________________________________\n",
      "max_pooling2d_35 (MaxPooling (None, 4, 4, 128)         0         \n",
      "_________________________________________________________________\n",
      "dropout_43 (Dropout)         (None, 4, 4, 128)         0         \n",
      "_________________________________________________________________\n",
      "conv2d_65 (Conv2D)           (None, 4, 4, 128)         65664     \n",
      "_________________________________________________________________\n",
      "conv2d_66 (Conv2D)           (None, 3, 3, 256)         131328    \n",
      "_________________________________________________________________\n",
      "max_pooling2d_36 (MaxPooling (None, 2, 2, 256)         0         \n",
      "_________________________________________________________________\n",
      "dropout_44 (Dropout)         (None, 2, 2, 256)         0         \n",
      "_________________________________________________________________\n",
      "flatten_8 (Flatten)          (None, 1024)              0         \n",
      "_________________________________________________________________\n",
      "dense_19 (Dense)             (None, 256)               262400    \n",
      "_________________________________________________________________\n",
      "batch_normalization_10 (Batc (None, 256)               1024      \n",
      "_________________________________________________________________\n",
      "dropout_45 (Dropout)         (None, 256)               0         \n",
      "_________________________________________________________________\n",
      "dense_20 (Dense)             (None, 128)               32896     \n",
      "_________________________________________________________________\n",
      "dropout_46 (Dropout)         (None, 128)               0         \n",
      "_________________________________________________________________\n",
      "dense_21 (Dense)             (None, 10)                1290      \n",
      "=================================================================\n",
      "Total params: 556,490\n",
      "Trainable params: 555,978\n",
      "Non-trainable params: 512\n",
      "_________________________________________________________________\n",
      "None\n",
      "Train on 60000 samples, validate on 10000 samples\n",
      "Epoch 1/12\n",
      "60000/60000 [==============================] - 263s 4ms/step - loss: 0.4402 - acc: 0.8525 - val_loss: 0.0602 - val_acc: 0.9804\n",
      "Epoch 2/12\n",
      "60000/60000 [==============================] - 256s 4ms/step - loss: 0.0911 - acc: 0.9727 - val_loss: 0.0323 - val_acc: 0.9901\n",
      "Epoch 3/12\n",
      "60000/60000 [==============================] - 262s 4ms/step - loss: 0.0675 - acc: 0.9802 - val_loss: 0.0246 - val_acc: 0.9916\n",
      "Epoch 4/12\n",
      "60000/60000 [==============================] - 279s 5ms/step - loss: 0.0536 - acc: 0.9839 - val_loss: 0.0265 - val_acc: 0.9919\n",
      "Epoch 5/12\n",
      "60000/60000 [==============================] - 279s 5ms/step - loss: 0.0446 - acc: 0.9867 - val_loss: 0.0309 - val_acc: 0.9910\n",
      "Epoch 6/12\n",
      "60000/60000 [==============================] - 282s 5ms/step - loss: 0.0485 - acc: 0.9858 - val_loss: 0.0420 - val_acc: 0.9882\n",
      "Epoch 7/12\n",
      "60000/60000 [==============================] - 287s 5ms/step - loss: 0.0397 - acc: 0.9882 - val_loss: 0.0236 - val_acc: 0.9923\n",
      "Epoch 8/12\n",
      "60000/60000 [==============================] - 282s 5ms/step - loss: 0.0382 - acc: 0.9888 - val_loss: 0.0235 - val_acc: 0.9928\n",
      "Epoch 9/12\n",
      "60000/60000 [==============================] - 281s 5ms/step - loss: 0.0321 - acc: 0.9902 - val_loss: 0.0191 - val_acc: 0.9936\n",
      "Epoch 10/12\n",
      "60000/60000 [==============================] - 285s 5ms/step - loss: 0.0299 - acc: 0.9913 - val_loss: 0.0254 - val_acc: 0.9922\n",
      "Epoch 11/12\n",
      "60000/60000 [==============================] - 275s 5ms/step - loss: 0.0288 - acc: 0.9919 - val_loss: 0.0212 - val_acc: 0.9940\n",
      "Epoch 12/12\n",
      "60000/60000 [==============================] - 281s 5ms/step - loss: 0.0300 - acc: 0.9914 - val_loss: 0.0261 - val_acc: 0.9921\n"
     ]
    }
   ],
   "source": [
    "# Initialising the model\n",
    "model_7 = Sequential()\n",
    "\n",
    "# Adding first conv layer\n",
    "model_7.add(Conv2D(32, kernel_size=(2, 2),padding='same',activation='relu',input_shape=input_shape))\n",
    "\n",
    "# Adding second conv layer\n",
    "model_7.add(Conv2D(32, (2, 2), activation='relu'))\n",
    "\n",
    "# Adding Maxpooling layer\n",
    "model_7.add(MaxPooling2D(pool_size=(3, 3), strides=(1,1)))\n",
    "\n",
    "# Adding Dropout\n",
    "model_7.add(Dropout(0.3))\n",
    "\n",
    "# Adding third conv layer\n",
    "model_7.add(Conv2D(64, (2, 2), activation='relu'))\n",
    "\n",
    "# Adding Maxpooling layer\n",
    "model_7.add(MaxPooling2D(pool_size=(2, 2),padding='same'))\n",
    "\n",
    "\n",
    "# Adding fourth conv layer\n",
    "model_7.add(Conv2D(64, (2, 2),padding='same',activation='relu'))\n",
    "\n",
    "# Adding fifth conv layer\n",
    "model_7.add(Conv2D(128, (2, 2), activation='relu'))\n",
    "\n",
    "# Adding Maxpooling layer\n",
    "model_7.add(MaxPooling2D(pool_size=(3, 3),padding='same'))\n",
    "\n",
    "# Adding Dropout\n",
    "model_7.add(Dropout(0.25))\n",
    "\n",
    "# Adding sixth conv layer\n",
    "model_7.add(Conv2D(128, (2, 2),padding='same',activation='relu'))\n",
    "\n",
    "# Adding seventh conv layer\n",
    "model_7.add(Conv2D(256, (2, 2), activation='relu'))\n",
    "\n",
    "# Adding Maxpooling layer\n",
    "model_7.add(MaxPooling2D(pool_size=(2, 2), strides=(1,1)))\n",
    "\n",
    "# Adding Dropout\n",
    "model_7.add(Dropout(0.25))\n",
    "\n",
    "# Adding flatten layer\n",
    "model_7.add(Flatten())\n",
    "\n",
    "# Adding first hidden layer\n",
    "model_7.add(Dense(256, activation='relu',kernel_initializer=he_normal(seed=None)))\n",
    "\n",
    "# Adding Batch Normalization\n",
    "model_7.add(BatchNormalization())\n",
    "\n",
    "# Adding Dropout\n",
    "model_7.add(Dropout(0.5))\n",
    "\n",
    "# Adding second hidden layer\n",
    "model_7.add(Dense(128, activation='relu',kernel_initializer=he_normal(seed=None)))\n",
    "\n",
    "# Adding Dropout\n",
    "model_7.add(Dropout(0.25))\n",
    "\n",
    "# Adding output layer\n",
    "model_7.add(Dense(num_classes, activation='softmax'))\n",
    "\n",
    "# Printing model Summary\n",
    "print(model_7.summary())\n",
    "\n",
    "# Compiling the model\n",
    "model_7.compile(optimizer='adam', loss='categorical_crossentropy', metrics=['accuracy'])\n",
    "\n",
    "# Fitting the data to the model\n",
    "history_7 = model_7.fit(x_train, y_train,batch_size=batch_size,epochs=epochs,verbose=1,validation_data=(x_test, y_test))"
   ]
  },
  {
   "cell_type": "code",
   "execution_count": 19,
   "metadata": {
    "colab": {
     "base_uri": "https://localhost:8080/",
     "height": 398
    },
    "colab_type": "code",
    "id": "46PovpQCKXXt",
    "outputId": "b1530d5d-08d7-4d81-afa1-5610a2387262"
   },
   "outputs": [
    {
     "name": "stdout",
     "output_type": "stream",
     "text": [
      "Test score: 0.026096460982217105\n",
      "Test accuracy: 0.9921\n"
     ]
    },
    {
     "data": {
      "image/png": "[encoded data removed]",
      "text/plain": [
       "<matplotlib.figure.Figure at 0x7f1793efb7b8>"
      ]
     },
     "metadata": {
      "tags": []
     },
     "output_type": "display_data"
    }
   ],
   "source": [
    "# Evaluating the model\n",
    "score = model_7.evaluate(x_test, y_test, verbose=0) \n",
    "print('Test score:', score[0]) \n",
    "print('Test accuracy:', score[1])\n",
    "\n",
    "# Test and train accuracy of the model\n",
    "model_7_test = score[1]\n",
    "model_7_train = max(history_7.history['acc'])\n",
    "\n",
    "# Plotting Train and Test Loss VS no. of epochs\n",
    "# list of epoch numbers\n",
    "x = list(range(1,epochs+1))\n",
    "\n",
    "# Validation loss\n",
    "vy = history_7.history['val_loss']\n",
    "# Training loss\n",
    "ty = history_7.history['loss']\n",
    "\n",
    "# Calling the function to draw the plot\n",
    "plt_dynamic(x, vy, ty)"
   ]
  },
  {
   "cell_type": "markdown",
   "metadata": {
    "colab_type": "text",
    "id": "b2cFIZ92k2AK"
   },
   "source": [
    "## CONCLUSION"
   ]
  },
  {
   "cell_type": "markdown",
   "metadata": {
    "colab_type": "text",
    "id": "ouV2ZH_ok-uH"
   },
   "source": [
    "## (a). Procedure Followed :"
   ]
  },
  {
   "cell_type": "markdown",
   "metadata": {
    "colab_type": "text",
    "id": "yJR1sNTtlDp2"
   },
   "source": [
    "1.   Load MNIST dataset\n",
    "2.   Split the dataset into train and test\n",
    "3. Normalize the train and test data\n",
    "4. Convert class variable into categorical data vector\n",
    "5. Implement Softmax classifier with  3, 5 and 7 conv layers .\n",
    "6. Use kernel -size (3X3) , (5X5) and (2,2) .\n",
    "7. Draw Categorical Crossentropy Loss VS No.of Epochs plot .\n",
    "\n"
   ]
  },
  {
   "cell_type": "markdown",
   "metadata": {
    "colab_type": "text",
    "id": "iXARnqShl475"
   },
   "source": [
    "## (b) Table (Different models with their train and test accuracies):"
   ]
  },
  {
   "cell_type": "code",
   "execution_count": 22,
   "metadata": {
    "colab": {
     "base_uri": "https://localhost:8080/",
     "height": 155
    },
    "colab_type": "code",
    "id": "7DPBIE58l_89",
    "outputId": "88b2d59c-4f6e-42c2-f5e4-59d384929ef3"
   },
   "outputs": [
    {
     "name": "stdout",
     "output_type": "stream",
     "text": [
      "Requirement already satisfied: prettytable in /usr/local/lib/python3.6/dist-packages (0.7.2)\n",
      "+-------+---------------------------------------------+--------------------+---------------+\n",
      "| S.NO. |                    MODEL                    | Training Accuracy  | Test Accuracy |\n",
      "+-------+---------------------------------------------+--------------------+---------------+\n",
      "|   1   | CNN(3-Conv layers) With Kernel-size = (3,3) | 0.9941166666348775 |     0.994     |\n",
      "|   2   | CNN(5-Conv layers) With Kernel-size = (5,5) |       0.9913       |     0.9931    |\n",
      "|   3   | CNN(7-Conv layers) With Kernel-size = (2,2) |      0.99195       |     0.9921    |\n",
      "+-------+---------------------------------------------+--------------------+---------------+\n"
     ]
    }
   ],
   "source": [
    "# Installing the library prettytable\n",
    "!pip install prettytable\n",
    "\n",
    "# Creating table using PrettyTable library\n",
    "from prettytable import PrettyTable\n",
    "\n",
    "# Names of models\n",
    "names = ['CNN(3-Conv layers) With Kernel-size = (3,3)','CNN(5-Conv layers) With Kernel-size = (5,5)',\\\n",
    "         'CNN(7-Conv layers) With Kernel-size = (2,2)']\n",
    "\n",
    "# Training accuracies\n",
    "train_acc = [model_3_train,model_5_train,model_7_train]\n",
    "\n",
    "# Test accuracies\n",
    "test_acc = [model_3_test,model_5_test,model_7_test]\n",
    "\n",
    "numbering = [1,2,3]\n",
    "\n",
    "# Initializing prettytable\n",
    "ptable = PrettyTable()\n",
    "\n",
    "# Adding columns\n",
    "ptable.add_column(\"S.NO.\",numbering)\n",
    "ptable.add_column(\"MODEL\",names)\n",
    "ptable.add_column(\"Training Accuracy\",train_acc)\n",
    "ptable.add_column(\"Test Accuracy\",test_acc)\n",
    "\n",
    "# Printing the Table\n",
    "print(ptable)"
   ]
  },
  {
   "cell_type": "code",
   "execution_count": 0,
   "metadata": {
    "colab": {},
    "colab_type": "code",
    "id": "TcXUcjLym5x5"
   },
   "outputs": [],
   "source": []
  }
 ],
 "metadata": {
  "colab": {
   "collapsed_sections": [],
   "name": "Assignment-13(Try various CNN networks on MNIST dataset).ipynb",
   "provenance": [],
   "version": "0.3.2"
  },
  "kernelspec": {
   "display_name": "Python 3",
   "language": "python",
   "name": "python3"
  },
  "language_info": {
   "codemirror_mode": {
    "name": "ipython",
    "version": 3
   },
   "file_extension": ".py",
   "mimetype": "text/x-python",
   "name": "python",
   "nbconvert_exporter": "python",
   "pygments_lexer": "ipython3",
   "version": "3.6.5"
  }
 },
 "nbformat": 4,
 "nbformat_minor": 1
}
